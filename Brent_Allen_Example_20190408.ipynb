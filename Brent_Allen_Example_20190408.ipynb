{
 "cells": [
  {
   "cell_type": "markdown",
   "metadata": {},
   "source": [
    "# Before you run this notebook\n",
    "\n",
    "### Create the conda environment from the env_class.yml file.  You can look it up on the Anacaonda documentation website but I will give you the readers digerst version.  You can do this from the Anaconda Prompt (installed with your Anaconda version) or any command (windows) / bash terminal (linux).\n",
    "\n",
    "#### Create the environment\n",
    "\n",
    "```conda env create --file env_class.yml```\n",
    "\n",
    "#### Activate the enironment\n",
    "\n",
    "windows -> ```acivate seyi_class```\n",
    "\n",
    "linux -> ```conda acivate seyi_class```\n",
    "\n",
    "#### \\*\\* Note: I put a couple of examples of how to pull packages from a git repo and how to tell Anaconda you want a specific version of a package."
   ]
  },
  {
   "cell_type": "code",
   "execution_count": 9,
   "metadata": {},
   "outputs": [],
   "source": [
    "# package import\n",
    "from BicycleClass import BicycleAnalysis\n",
    "import pandas\n",
    "import matplotlib\n",
    "\n",
    "import warnings\n",
    "warnings.simplefilter('ignore')"
   ]
  },
  {
   "cell_type": "code",
   "execution_count": 10,
   "metadata": {},
   "outputs": [],
   "source": [
    "%matplotlib inline"
   ]
  },
  {
   "cell_type": "markdown",
   "metadata": {},
   "source": [
    "# Data Import\n",
    "\n",
    "I would look at the code in the load_data() method.  I used os.walk() to find all the files in the directory."
   ]
  },
  {
   "cell_type": "code",
   "execution_count": 11,
   "metadata": {},
   "outputs": [
    {
     "data": {
      "text/plain": [
       "True"
      ]
     },
     "execution_count": 11,
     "metadata": {},
     "output_type": "execute_result"
    }
   ],
   "source": [
    "bicycle_analysis = BicycleAnalysis()\n",
    "bicycle_analysis.load_data(m_bool_filter_columns = True)"
   ]
  },
  {
   "cell_type": "markdown",
   "metadata": {},
   "source": [
    "# Data Exploration\n",
    "\n",
    "Our goal is to undersand the data set as it is which will give us some insight on what we want to do in the transformation phase."
   ]
  },
  {
   "cell_type": "markdown",
   "metadata": {},
   "source": [
    "### Let's look at the Training set first.\n",
    "\n"
   ]
  },
  {
   "cell_type": "code",
   "execution_count": 4,
   "metadata": {},
   "outputs": [
    {
     "name": "stdout",
     "output_type": "stream",
     "text": [
      "Exploring training data set.\n",
      "\n",
      "<class 'pandas.core.frame.DataFrame'>\n",
      "RangeIndex: 7685 entries, 0 to 7684\n",
      "Data columns (total 13 columns):\n",
      "CountryRegionName       7685 non-null object\n",
      "NumberCarsOwned         7685 non-null int64\n",
      "StateProvinceName       7685 non-null object\n",
      "NumberChildrenAtHome    7685 non-null int64\n",
      "Gender                  7685 non-null object\n",
      "TotalChildren           7685 non-null int64\n",
      "AveMonthSpend           7685 non-null int64\n",
      "Occupation              7685 non-null object\n",
      "MaritalStatus           7685 non-null object\n",
      "HomeOwnerFlag           7685 non-null int64\n",
      "BikeBuyer               7685 non-null int64\n",
      "YearlyIncome            7685 non-null int64\n",
      "Education               7685 non-null object\n",
      "dtypes: int64(7), object(6)\n",
      "memory usage: 780.6+ KB\n",
      "None\n",
      "  CountryRegionName  NumberCarsOwned StateProvinceName  NumberChildrenAtHome  \\\n",
      "0    United Kingdom                0           England                     0   \n",
      "1            Canada                1  British Columbia                     0   \n",
      "2            Canada                0  British Columbia                     2   \n",
      "\n",
      "  Gender  TotalChildren  AveMonthSpend      Occupation MaritalStatus  \\\n",
      "0      M              1             70          Manual             M   \n",
      "1      M              0             69    Professional             S   \n",
      "2      M              2            102  Skilled Manual             M   \n",
      "\n",
      "   HomeOwnerFlag  BikeBuyer  YearlyIncome   Education  \n",
      "0              1          1         35455  Bachelors   \n",
      "1              0          0         43980  Bachelors   \n",
      "2              1          0         57713  Bachelors   \n"
     ]
    }
   ],
   "source": [
    "bicycle_analysis.explore()"
   ]
  },
  {
   "cell_type": "markdown",
   "metadata": {},
   "source": [
    "There are two types of columns, ones with categorical values and ones with numerical values.  The ```BikeBuyer``` column is what we are trying to predict.  ```1``` is the person bought a bicycle while ```0``` is the person didn't buy the bicycle.\n",
    "\n",
    "The columns do not have any numpy.NaN values (this is from additional analysis).\n",
    "\n",
    "There is some basic information about where the person lives, their education level, what they do for work, gender, marital status, if they own a home, the number of children in the home, the total number of children, yearly income and average monthly spend.\n",
    "\n",
    "There are only two continuous variables ```YearlyIncome``` and ```AveMonthSpend```.  The other integer columns can be converted to a category."
   ]
  },
  {
   "cell_type": "markdown",
   "metadata": {},
   "source": [
    "### Let's look at each categorical variable.\n",
    "\n",
    "We are looking at the distribution of each categorical variable."
   ]
  },
  {
   "cell_type": "code",
   "execution_count": 12,
   "metadata": {},
   "outputs": [
    {
     "name": "stdout",
     "output_type": "stream",
     "text": [
      "Comparing train and test data sets.\n",
      "\n"
     ]
    },
    {
     "ename": "NameError",
     "evalue": "name 'df_data' is not defined",
     "output_type": "error",
     "traceback": [
      "\u001b[1;31m---------------------------------------------------------------------------\u001b[0m",
      "\u001b[1;31mNameError\u001b[0m                                 Traceback (most recent call last)",
      "\u001b[1;32m<ipython-input-12-f3b88743769e>\u001b[0m in \u001b[0;36m<module>\u001b[1;34m()\u001b[0m\n\u001b[1;32m----> 1\u001b[1;33m \u001b[0mbicycle_analysis\u001b[0m\u001b[1;33m.\u001b[0m\u001b[0mcompare_train_test\u001b[0m\u001b[1;33m(\u001b[0m\u001b[0mm_list_flags\u001b[0m \u001b[1;33m=\u001b[0m \u001b[1;33m[\u001b[0m\u001b[1;34m'categorical_columns'\u001b[0m\u001b[1;33m]\u001b[0m\u001b[1;33m)\u001b[0m\u001b[1;33m\u001b[0m\u001b[0m\n\u001b[0m",
      "\u001b[1;32mC:\\Code\\Development\\Python\\Seyi_Class\\BicycleClass.py\u001b[0m in \u001b[0;36mcompare_train_test\u001b[1;34m(self, m_list_flags)\u001b[0m\n\u001b[0;32m    328\u001b[0m                         \u001b[0mdf_train_filt\u001b[0m\u001b[1;33m[\u001b[0m\u001b[0mstring_column\u001b[0m\u001b[1;33m]\u001b[0m\u001b[1;33m.\u001b[0m\u001b[0mdtype\u001b[0m \u001b[1;33m==\u001b[0m \u001b[1;34m'object'\u001b[0m\u001b[1;33m:\u001b[0m\u001b[1;33m\u001b[0m\u001b[0m\n\u001b[0;32m    329\u001b[0m                         \u001b[1;31m# get plot values\u001b[0m\u001b[1;33m\u001b[0m\u001b[1;33m\u001b[0m\u001b[0m\n\u001b[1;32m--> 330\u001b[1;33m                         series_test = self._ctt_calc_cat_values(\n\u001b[0m\u001b[0;32m    331\u001b[0m                             self.df_test_raw[string_column])\n\u001b[0;32m    332\u001b[0m                         series_train = self._ctt_calc_cat_values(\n",
      "\u001b[1;32mC:\\Code\\Development\\Python\\Seyi_Class\\BicycleClass.py\u001b[0m in \u001b[0;36m_ctt_calc_cat_values\u001b[1;34m(self, m_series)\u001b[0m\n\u001b[0;32m    487\u001b[0m \u001b[1;33m\u001b[0m\u001b[0m\n\u001b[0;32m    488\u001b[0m         \u001b[1;31m# loop through x-values\u001b[0m\u001b[1;33m\u001b[0m\u001b[1;33m\u001b[0m\u001b[0m\n\u001b[1;32m--> 489\u001b[1;33m         \u001b[1;32mfor\u001b[0m \u001b[0mstring_value\u001b[0m \u001b[1;32min\u001b[0m \u001b[0mlist_x_values\u001b[0m\u001b[1;33m:\u001b[0m\u001b[1;33m\u001b[0m\u001b[0m\n\u001b[0m\u001b[0;32m    490\u001b[0m             \u001b[0marray_x_bool\u001b[0m \u001b[1;33m=\u001b[0m \u001b[0mm_series\u001b[0m \u001b[1;33m==\u001b[0m \u001b[0mstring_value\u001b[0m\u001b[1;33m\u001b[0m\u001b[0m\n\u001b[0;32m    491\u001b[0m             \u001b[0mlist_y_values\u001b[0m\u001b[1;33m.\u001b[0m\u001b[0mappend\u001b[0m\u001b[1;33m(\u001b[0m\u001b[0marray_x_bool\u001b[0m\u001b[1;33m.\u001b[0m\u001b[0msum\u001b[0m\u001b[1;33m(\u001b[0m\u001b[1;33m)\u001b[0m\u001b[1;33m)\u001b[0m\u001b[1;33m\u001b[0m\u001b[0m\n",
      "\u001b[1;31mNameError\u001b[0m: name 'df_data' is not defined"
     ]
    }
   ],
   "source": [
    "bicycle_analysis.compare_train_test(m_list_flags = ['categorical_columns'])"
   ]
  },
  {
   "cell_type": "markdown",
   "metadata": {},
   "source": [
    "__StateProvinceName__ has 40+ unique values so the plot is limited to the top 10.  California has more bicycle buyers by almost 2x compared to the next highest category.  The __United States__ has more bicycle buyers but this could be because the population is higher."
   ]
  },
  {
   "cell_type": "markdown",
   "metadata": {},
   "source": [
    "### Let's look at what we are trying to predict\n",
    "\n",
    "We want to look at the distribtion and see if it is skwed.  If it is we may have to resample with replacement to the precision, recall and F1 score isn't skewed."
   ]
  },
  {
   "cell_type": "code",
   "execution_count": 6,
   "metadata": {},
   "outputs": [
    {
     "name": "stdout",
     "output_type": "stream",
     "text": [
      "Exploring training data set.\n",
      "\n"
     ]
    },
    {
     "data": {
      "image/png": "[encoded data removed]",
      "text/plain": [
       "<Figure size 432x288 with 1 Axes>"
      ]
     },
     "metadata": {},
     "output_type": "display_data"
    }
   ],
   "source": [
    "bicycle_analysis.explore(m_string_flag = 'prediction_column')"
   ]
  },
  {
   "cell_type": "markdown",
   "metadata": {},
   "source": [
    "The distribion of bicycle buyers verses non-bicycle buyers looks pretty even.  No need to resample with replacement."
   ]
  },
  {
   "cell_type": "markdown",
   "metadata": {},
   "source": [
    "## SAVE FOR DOCUMENTATION"
   ]
  },
  {
   "cell_type": "code",
   "execution_count": null,
   "metadata": {},
   "outputs": [],
   "source": []
  }
 ],
 "metadata": {
  "kernelspec": {
   "display_name": "Python 3",
   "language": "python",
   "name": "python3"
  },
  "language_info": {
   "codemirror_mode": {
    "name": "ipython",
    "version": 3
   },
   "file_extension": ".py",
   "mimetype": "text/x-python",
   "name": "python",
   "nbconvert_exporter": "python",
   "pygments_lexer": "ipython3",
   "version": "3.6.5"
  }
 },
 "nbformat": 4,
 "nbformat_minor": 2
}
