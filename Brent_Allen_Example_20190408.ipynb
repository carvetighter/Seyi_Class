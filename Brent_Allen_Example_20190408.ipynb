{
 "cells": [
  {
   "cell_type": "markdown",
   "metadata": {},
   "source": [
    "# Before you run this notebook\n",
    "\n",
    "### Create the conda environment from the env_class.yml file.  You can look it up on the Anacaonda documentation website but I will give you the readers digerst version.  You can do this from the Anaconda Prompt (installed with your Anaconda version) or any command (windows) / bash terminal (linux).\n",
    "\n",
    "#### Create the environment\n",
    "\n",
    "```conda env create --file env_class.yml```\n",
    "\n",
    "#### Activate the enironment\n",
    "\n",
    "windows -> ```acivate seyi_class```\n",
    "\n",
    "linux -> ```conda acivate seyi_class```\n",
    "\n",
    "#### \\*\\* Note: I put a couple of examples of how to pull packages from a git repo and how to tell Anaconda you want a specific version of a package."
   ]
  },
  {
   "cell_type": "code",
   "execution_count": 1,
   "metadata": {},
   "outputs": [],
   "source": [
    "# package import\n",
    "from BicycleClass import BicycleAnalysis\n",
    "import pandas\n",
    "import matplotlib\n",
    "\n",
    "import warnings\n",
    "warnings.simplefilter('ignore')"
   ]
  },
  {
   "cell_type": "code",
   "execution_count": 2,
   "metadata": {},
   "outputs": [],
   "source": [
    "%matplotlib inline"
   ]
  },
  {
   "cell_type": "markdown",
   "metadata": {},
   "source": [
    "# Data Import\n",
    "\n",
    "I would look at the code in the load_data() method.  I used os.walk() to find all the files in the directory."
   ]
  },
  {
   "cell_type": "code",
   "execution_count": 3,
   "metadata": {},
   "outputs": [
    {
     "data": {
      "text/plain": [
       "True"
      ]
     },
     "execution_count": 3,
     "metadata": {},
     "output_type": "execute_result"
    }
   ],
   "source": [
    "bicycle_analysis = BicycleAnalysis()\n",
    "bicycle_analysis.load_data(m_bool_filter_columns = True)"
   ]
  },
  {
   "cell_type": "markdown",
   "metadata": {},
   "source": [
    "# Data Exploration\n",
    "\n",
    "Our goal is to undersand the data set as it is which will give us some insight on what we want to do in the transformation phase."
   ]
  },
  {
   "cell_type": "markdown",
   "metadata": {},
   "source": [
    "### Let's look at the Training set first.\n",
    "\n"
   ]
  },
  {
   "cell_type": "code",
   "execution_count": 4,
   "metadata": {},
   "outputs": [
    {
     "name": "stdout",
     "output_type": "stream",
     "text": [
      "BikeBiyer column excluded\n",
      "\n",
      "train dataset info\n",
      "<class 'pandas.core.frame.DataFrame'>\n",
      "RangeIndex: 7685 entries, 0 to 7684\n",
      "Data columns (total 12 columns):\n",
      "Occupation              7685 non-null object\n",
      "NumberChildrenAtHome    7685 non-null int64\n",
      "HomeOwnerFlag           7685 non-null int64\n",
      "Education               7685 non-null object\n",
      "CountryRegionName       7685 non-null object\n",
      "YearlyIncome            7685 non-null int64\n",
      "StateProvinceName       7685 non-null object\n",
      "AveMonthSpend           7685 non-null int64\n",
      "Gender                  7685 non-null object\n",
      "MaritalStatus           7685 non-null object\n",
      "NumberCarsOwned         7685 non-null int64\n",
      "TotalChildren           7685 non-null int64\n",
      "dtypes: int64(6), object(6)\n",
      "memory usage: 720.5+ KB\n",
      "\n",
      "First three records of train data set\n",
      "       Occupation  NumberChildrenAtHome  HomeOwnerFlag   Education  \\\n",
      "0          Manual                     0              1  Bachelors    \n",
      "1    Professional                     0              0  Bachelors    \n",
      "2  Skilled Manual                     2              1  Bachelors    \n",
      "\n",
      "  CountryRegionName  YearlyIncome StateProvinceName  AveMonthSpend Gender  \\\n",
      "0    United Kingdom         35455           England             70      M   \n",
      "1            Canada         43980  British Columbia             69      M   \n",
      "2            Canada         57713  British Columbia            102      M   \n",
      "\n",
      "  MaritalStatus  NumberCarsOwned  TotalChildren  \n",
      "0             M                0              1  \n",
      "1             S                1              0  \n",
      "2             M                0              2   \n",
      "\n",
      "# of nulls in column: 0\n",
      "count             7685\n",
      "unique               5\n",
      "top       Professional\n",
      "freq              2485\n",
      "Name: Occupation, dtype: object\n",
      "unique values are ['Manual', 'Professional', 'Skilled Manual', 'Clerical', 'Management'] \n",
      "\n",
      "# of nulls in column: 0\n",
      "count    7685.000000\n",
      "mean        1.230839\n",
      "std         1.650189\n",
      "min         0.000000\n",
      "25%         0.000000\n",
      "50%         0.000000\n",
      "75%         2.000000\n",
      "max         5.000000\n",
      "Name: NumberChildrenAtHome, dtype: float64\n",
      "\n",
      "\n",
      "# of nulls in column: 0\n",
      "count    7685.000000\n",
      "mean        0.696682\n",
      "std         0.459721\n",
      "min         0.000000\n",
      "25%         0.000000\n",
      "50%         1.000000\n",
      "75%         1.000000\n",
      "max         1.000000\n",
      "Name: HomeOwnerFlag, dtype: float64\n",
      "\n",
      "\n",
      "# of nulls in column: 0\n",
      "count           7685\n",
      "unique             5\n",
      "top       Bachelors \n",
      "freq            2294\n",
      "Name: Education, dtype: object\n",
      "unique values are ['Bachelors ', 'Graduate Degree', 'High School', 'Partial College', 'Partial High School'] \n",
      "\n",
      "# of nulls in column: 0\n",
      "count              7685\n",
      "unique                6\n",
      "top       United States\n",
      "freq               3226\n",
      "Name: CountryRegionName, dtype: object\n",
      "unique values are ['United Kingdom', 'Canada', 'United States', 'Australia', 'France', 'Germany'] \n",
      "\n",
      "# of nulls in column: 0\n",
      "count      7685.000000\n",
      "mean      82323.659206\n",
      "std       40368.317414\n",
      "min       10063.000000\n",
      "25%       50784.000000\n",
      "50%       82158.000000\n",
      "75%      109389.000000\n",
      "max      193721.000000\n",
      "Name: YearlyIncome, dtype: float64\n",
      "\n",
      "\n",
      "# of nulls in column: 0\n",
      "count           7685\n",
      "unique            45\n",
      "top       California\n",
      "freq            1826\n",
      "Name: StateProvinceName, dtype: object\n",
      "unique values are ['England', 'British Columbia', 'California', 'Washington', 'New South Wales', 'Seine Saint Denis', 'Seine (Paris)', 'Nordrhein-Westfalen', 'Victoria', 'Queensland', 'Oregon', 'Hessen', 'Bayern', 'Essonne', 'Nord', 'South Australia', 'Saarland', 'Val de Marne', 'Georgia', 'Tasmania', 'Hamburg', 'Seine et Marne', 'Charente-Maritime', 'Brandenburg', 'Illinois', 'Hauts de Seine', 'Yveline', 'Loir et Cher', 'Somme', 'Moselle', 'Missouri', 'Arizona', 'Garonne (Haute)', 'Loiret', 'Pas de Calais', 'Alberta', \"Val d'Oise\", 'Virginia', 'New York', 'Ohio', 'North Carolina', 'Wyoming', 'Mississippi', 'South Carolina', 'Texas'] \n",
      "\n",
      "# of nulls in column: 0\n",
      "count    7685.000000\n",
      "mean       76.383995\n",
      "std        29.367313\n",
      "min        26.000000\n",
      "25%        53.000000\n",
      "50%        71.000000\n",
      "75%        89.000000\n",
      "max       176.000000\n",
      "Name: AveMonthSpend, dtype: float64\n",
      "\n",
      "\n",
      "# of nulls in column: 0\n",
      "count     7685\n",
      "unique       2\n",
      "top          M\n",
      "freq      4024\n",
      "Name: Gender, dtype: object\n",
      "unique values are ['M', 'F'] \n",
      "\n",
      "# of nulls in column: 0\n",
      "count     7685\n",
      "unique       2\n",
      "top          M\n",
      "freq      3939\n",
      "Name: MaritalStatus, dtype: object\n",
      "unique values are ['M', 'S'] \n",
      "\n",
      "# of nulls in column: 0\n",
      "count    7685.000000\n",
      "mean        1.569031\n",
      "std         1.177871\n",
      "min         0.000000\n",
      "25%         1.000000\n",
      "50%         2.000000\n",
      "75%         2.000000\n",
      "max         4.000000\n",
      "Name: NumberCarsOwned, dtype: float64\n",
      "\n",
      "\n",
      "# of nulls in column: 0\n",
      "count    7685.000000\n",
      "mean        2.151464\n",
      "std         1.727375\n",
      "min         0.000000\n",
      "25%         1.000000\n",
      "50%         2.000000\n",
      "75%         4.000000\n",
      "max         5.000000\n",
      "Name: TotalChildren, dtype: float64\n",
      "\n",
      "\n"
     ]
    }
   ],
   "source": [
    "bicycle_analysis.basic_exploration()"
   ]
  },
  {
   "cell_type": "markdown",
   "metadata": {},
   "source": [
    "# Need to redo the below comments\n",
    "\n",
    "There are two types of columns, ones with categorical values and ones with numerical values.  The ```BikeBuyer``` column is what we are trying to predict.  ```1``` is the person bought a bicycle while ```0``` is the person didn't buy the bicycle.\n",
    "\n",
    "The columns do not have any numpy.NaN values (this is from additional analysis).\n",
    "\n",
    "There is some basic information about where the person lives, their education level, what they do for work, gender, marital status, if they own a home, the number of children in the home, the total number of children, yearly income and average monthly spend.\n",
    "\n",
    "There are only two continuous variables ```YearlyIncome``` and ```AveMonthSpend```.  The other integer columns can be converted to a category."
   ]
  },
  {
   "cell_type": "markdown",
   "metadata": {},
   "source": [
    "### Let's look at the test set"
   ]
  },
  {
   "cell_type": "code",
   "execution_count": 5,
   "metadata": {},
   "outputs": [
    {
     "name": "stdout",
     "output_type": "stream",
     "text": [
      "BikeBiyer column excluded\n",
      "\n",
      "test dataset info\n",
      "<class 'pandas.core.frame.DataFrame'>\n",
      "RangeIndex: 3328 entries, 0 to 3327\n",
      "Data columns (total 12 columns):\n",
      "Occupation              3328 non-null object\n",
      "NumberChildrenAtHome    3328 non-null int64\n",
      "HomeOwnerFlag           3328 non-null int64\n",
      "Education               3328 non-null object\n",
      "CountryRegionName       3328 non-null object\n",
      "YearlyIncome            3328 non-null int64\n",
      "StateProvinceName       3328 non-null object\n",
      "AveMonthSpend           3328 non-null int64\n",
      "Gender                  3328 non-null object\n",
      "MaritalStatus           3328 non-null object\n",
      "NumberCarsOwned         3328 non-null int64\n",
      "TotalChildren           3328 non-null int64\n",
      "dtypes: int64(6), object(6)\n",
      "memory usage: 312.1+ KB\n",
      "\n",
      "First three records of test data set\n",
      "       Occupation  NumberChildrenAtHome  HomeOwnerFlag   Education  \\\n",
      "0          Manual                     0              1  Bachelors    \n",
      "1    Professional                     0              0  Bachelors    \n",
      "2  Skilled Manual                     2              1  Bachelors    \n",
      "\n",
      "  CountryRegionName  YearlyIncome StateProvinceName  AveMonthSpend Gender  \\\n",
      "0    United Kingdom         35455           England             70      M   \n",
      "1            Canada         43980  British Columbia             69      M   \n",
      "2            Canada         57713  British Columbia            102      M   \n",
      "\n",
      "  MaritalStatus  NumberCarsOwned  TotalChildren  \n",
      "0             M                0              1  \n",
      "1             S                1              0  \n",
      "2             M                0              2   \n",
      "\n",
      "# of nulls in column: 0\n",
      "count             3328\n",
      "unique               5\n",
      "top       Professional\n",
      "freq              1099\n",
      "Name: Occupation, dtype: object\n",
      "unique values are ['Skilled Manual', 'Management', 'Clerical', 'Professional', 'Manual'] \n",
      "\n",
      "# of nulls in column: 0\n",
      "count    3328.000000\n",
      "mean        1.219351\n",
      "std         1.646546\n",
      "min         0.000000\n",
      "25%         0.000000\n",
      "50%         0.000000\n",
      "75%         2.000000\n",
      "max         5.000000\n",
      "Name: NumberChildrenAtHome, dtype: float64\n",
      "\n",
      "\n",
      "# of nulls in column: 0\n",
      "count    3328.000000\n",
      "mean        0.629207\n",
      "std         0.483090\n",
      "min         0.000000\n",
      "25%         0.000000\n",
      "50%         1.000000\n",
      "75%         1.000000\n",
      "max         1.000000\n",
      "Name: HomeOwnerFlag, dtype: float64\n",
      "\n",
      "\n",
      "# of nulls in column: 0\n",
      "count           3328\n",
      "unique             5\n",
      "top       Bachelors \n",
      "freq            1024\n",
      "Name: Education, dtype: object\n",
      "unique values are ['High School', 'Bachelors ', 'Partial College', 'Partial High School', 'Graduate Degree'] \n",
      "\n",
      "# of nulls in column: 0\n",
      "count              3328\n",
      "unique                6\n",
      "top       United States\n",
      "freq               1384\n",
      "Name: CountryRegionName, dtype: object\n",
      "unique values are ['United States', 'Canada', 'France', 'United Kingdom', 'Germany', 'Australia'] \n",
      "\n",
      "# of nulls in column: 0\n",
      "count      3328.000000\n",
      "mean      82058.857873\n",
      "std       40885.532567\n",
      "min       10196.000000\n",
      "25%       50248.250000\n",
      "50%       80924.000000\n",
      "75%      110225.500000\n",
      "max      194314.000000\n",
      "Name: YearlyIncome, dtype: float64\n",
      "\n",
      "\n",
      "# of nulls in column: 0\n",
      "count           3328\n",
      "unique            36\n",
      "top       California\n",
      "freq             811\n",
      "Name: StateProvinceName, dtype: object\n",
      "unique values are ['Oregon', 'California', 'British Columbia', 'Washington', 'Yveline', 'England', 'Hessen', 'Bayern', 'Essonne', 'Nord', 'New South Wales', 'Queensland', 'Victoria', 'Saarland', 'Nordrhein-Westfalen', 'South Australia', 'Seine et Marne', 'Loir et Cher', 'Hamburg', 'Hauts de Seine', 'Seine (Paris)', 'Seine Saint Denis', 'Tasmania', 'Val de Marne', 'Garonne (Haute)', \"Val d'Oise\", 'Moselle', 'Brandenburg', 'Pas de Calais', 'Loiret', 'Arizona', 'Charente-Maritime', 'Utah', 'Alberta', 'Florida', 'Somme'] \n",
      "\n",
      "# of nulls in column: 0\n",
      "count    3328.000000\n",
      "mean       76.379808\n",
      "std        29.432576\n",
      "min        22.000000\n",
      "25%        53.000000\n",
      "50%        72.000000\n",
      "75%        89.000000\n",
      "max       172.000000\n",
      "Name: AveMonthSpend, dtype: float64\n",
      "\n",
      "\n",
      "# of nulls in column: 0\n",
      "count     3328\n",
      "unique       2\n",
      "top          M\n",
      "freq      1766\n",
      "Name: Gender, dtype: object\n",
      "unique values are ['M', 'F'] \n",
      "\n",
      "# of nulls in column: 0\n",
      "count     3328\n",
      "unique       2\n",
      "top          S\n",
      "freq      1722\n",
      "Name: MaritalStatus, dtype: object\n",
      "unique values are ['S', 'M'] \n",
      "\n",
      "# of nulls in column: 0\n",
      "count    3328.000000\n",
      "mean        1.560397\n",
      "std         1.193341\n",
      "min         0.000000\n",
      "25%         1.000000\n",
      "50%         2.000000\n",
      "75%         2.000000\n",
      "max         4.000000\n",
      "Name: NumberCarsOwned, dtype: float64\n",
      "\n",
      "\n",
      "# of nulls in column: 0\n",
      "count    3328.000000\n",
      "mean        2.134315\n",
      "std         1.716884\n",
      "min         0.000000\n",
      "25%         1.000000\n",
      "50%         2.000000\n",
      "75%         4.000000\n",
      "max         5.000000\n",
      "Name: TotalChildren, dtype: float64\n",
      "\n",
      "\n"
     ]
    }
   ],
   "source": [
    "bicycle_analysis.basic_exploration(False)"
   ]
  },
  {
   "cell_type": "markdown",
   "metadata": {},
   "source": [
    "comments about test set"
   ]
  },
  {
   "cell_type": "markdown",
   "metadata": {},
   "source": [
    "### Let's look at each categorical variable.\n",
    "\n",
    "We are looking at the distribution of each categorical variable."
   ]
  },
  {
   "cell_type": "code",
   "execution_count": 6,
   "metadata": {},
   "outputs": [
    {
     "name": "stdout",
     "output_type": "stream",
     "text": [
      "Comparing train and test data sets.\n",
      "\n"
     ]
    },
    {
     "data": {
      "image/png": "[encoded data removed]",
      "text/plain": [
       "<Figure size 432x288 with 2 Axes>"
      ]
     },
     "metadata": {},
     "output_type": "display_data"
    },
    {
     "data": {
      "image/png": "[encoded data removed]",
      "text/plain": [
       "<Figure size 432x288 with 2 Axes>"
      ]
     },
     "metadata": {},
     "output_type": "display_data"
    },
    {
     "data": {
      "image/png": "[encoded data removed]",
      "text/plain": [
       "<Figure size 432x288 with 2 Axes>"
      ]
     },
     "metadata": {},
     "output_type": "display_data"
    },
    {
     "data": {
      "image/png": "[encoded data removed]",
      "text/plain": [
       "<Figure size 432x288 with 2 Axes>"
      ]
     },
     "metadata": {},
     "output_type": "display_data"
    },
    {
     "data": {
      "image/png": "[encoded data removed]",
      "text/plain": [
       "<Figure size 432x288 with 2 Axes>"
      ]
     },
     "metadata": {},
     "output_type": "display_data"
    },
    {
     "data": {
      "image/png": "[encoded data removed]",
      "text/plain": [
       "<Figure size 432x288 with 2 Axes>"
      ]
     },
     "metadata": {},
     "output_type": "display_data"
    }
   ],
   "source": [
    "bicycle_analysis.compare_train_test(m_list_flags = ['categorical_columns'])"
   ]
  },
  {
   "cell_type": "markdown",
   "metadata": {},
   "source": [
    "__StateProvinceName__ has 40+ unique values so the plot is limited to the top 10.  California has more bicycle buyers by almost 2x compared to the next highest category.  The __United States__ has more bicycle buyers but this could be because the population is higher."
   ]
  },
  {
   "cell_type": "markdown",
   "metadata": {},
   "source": [
    "### Let's look at what we are trying to predict\n",
    "\n",
    "We want to look at the distribtion and see if it is skwed.  If it is we may have to resample with replacement to the precision, recall and F1 score isn't skewed."
   ]
  },
  {
   "cell_type": "code",
   "execution_count": 7,
   "metadata": {},
   "outputs": [
    {
     "name": "stdout",
     "output_type": "stream",
     "text": [
      "Comparing train and test data sets.\n",
      "\n"
     ]
    },
    {
     "data": {
      "image/png": "[encoded data removed]",
      "text/plain": [
       "<Figure size 432x288 with 1 Axes>"
      ]
     },
     "metadata": {},
     "output_type": "display_data"
    }
   ],
   "source": [
    "bicycle_analysis.compare_train_test(m_list_flags = ['prediction_column'])"
   ]
  },
  {
   "cell_type": "markdown",
   "metadata": {},
   "source": [
    "The distribion of bicycle buyers verses non-bicycle buyers looks pretty even.  No need to resample with replacement."
   ]
  },
  {
   "cell_type": "markdown",
   "metadata": {},
   "source": [
    "## SAVE FOR DOCUMENTATION"
   ]
  },
  {
   "cell_type": "code",
   "execution_count": null,
   "metadata": {},
   "outputs": [],
   "source": []
  }
 ],
 "metadata": {
  "kernelspec": {
   "display_name": "Python 3",
   "language": "python",
   "name": "python3"
  },
  "language_info": {
   "codemirror_mode": {
    "name": "ipython",
    "version": 3
   },
   "file_extension": ".py",
   "mimetype": "text/x-python",
   "name": "python",
   "nbconvert_exporter": "python",
   "pygments_lexer": "ipython3",
   "version": "3.6.5"
  }
 },
 "nbformat": 4,
 "nbformat_minor": 2
}
